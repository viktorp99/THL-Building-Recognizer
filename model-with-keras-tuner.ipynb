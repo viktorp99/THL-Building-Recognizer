{
 "cells": [
  {
   "cell_type": "code",
   "execution_count": 1,
   "id": "00a4719a",
   "metadata": {
    "_cell_guid": "b1076dfc-b9ad-4769-8c92-a6c4dae69d19",
    "_uuid": "8f2839f25d086af736a60e9eeb907d3b93b6e0e5",
    "execution": {
     "iopub.execute_input": "2022-07-25T10:51:54.067752Z",
     "iopub.status.busy": "2022-07-25T10:51:54.067431Z",
     "iopub.status.idle": "2022-07-25T10:52:06.164144Z",
     "shell.execute_reply": "2022-07-25T10:52:06.163053Z"
    },
    "papermill": {
     "duration": 12.11658,
     "end_time": "2022-07-25T10:52:06.167006",
     "exception": false,
     "start_time": "2022-07-25T10:51:54.050426",
     "status": "completed"
    },
    "tags": []
   },
   "outputs": [
    {
     "name": "stdout",
     "output_type": "stream",
     "text": [
      "\u001b[33mWARNING: Running pip as the 'root' user can result in broken permissions and conflicting behaviour with the system package manager. It is recommended to use a virtual environment instead: https://pip.pypa.io/warnings/venv\u001b[0m\u001b[33m\r\n",
      "\u001b[0mNote: you may need to restart the kernel to use updated packages.\n"
     ]
    }
   ],
   "source": [
    "pip install -q -U keras-tuner"
   ]
  },
  {
   "cell_type": "code",
   "execution_count": 2,
   "id": "b983b8d5",
   "metadata": {
    "execution": {
     "iopub.execute_input": "2022-07-25T10:52:06.201567Z",
     "iopub.status.busy": "2022-07-25T10:52:06.201352Z",
     "iopub.status.idle": "2022-07-25T10:52:12.220607Z",
     "shell.execute_reply": "2022-07-25T10:52:12.218978Z"
    },
    "papermill": {
     "duration": 6.038479,
     "end_time": "2022-07-25T10:52:12.223020",
     "exception": false,
     "start_time": "2022-07-25T10:52:06.184541",
     "status": "completed"
    },
    "tags": []
   },
   "outputs": [
    {
     "name": "stdout",
     "output_type": "stream",
     "text": [
      "Tensorflow version: 2.6.3\n"
     ]
    }
   ],
   "source": [
    "import warnings\n",
    "warnings.filterwarnings(\"ignore\")\n",
    "\n",
    "import tensorflow as tf\n",
    "from tensorflow import keras\n",
    "from tensorflow.keras import layers\n",
    "import keras_tuner as kt\n",
    "\n",
    "print('Tensorflow version:', tf.__version__)\n",
    "AUTO = tf.data.experimental.AUTOTUNE"
   ]
  },
  {
   "cell_type": "code",
   "execution_count": null,
   "id": "7269cfbe",
   "metadata": {
    "papermill": {
     "duration": 0.016012,
     "end_time": "2022-07-25T10:52:12.256575",
     "exception": false,
     "start_time": "2022-07-25T10:52:12.240563",
     "status": "completed"
    },
    "tags": []
   },
   "outputs": [],
   "source": []
  },
  {
   "cell_type": "code",
   "execution_count": 3,
   "id": "18c1d989",
   "metadata": {
    "execution": {
     "iopub.execute_input": "2022-07-25T10:52:12.288395Z",
     "iopub.status.busy": "2022-07-25T10:52:12.288198Z",
     "iopub.status.idle": "2022-07-25T10:52:12.304331Z",
     "shell.execute_reply": "2022-07-25T10:52:12.303627Z"
    },
    "papermill": {
     "duration": 0.034381,
     "end_time": "2022-07-25T10:52:12.306268",
     "exception": false,
     "start_time": "2022-07-25T10:52:12.271887",
     "status": "completed"
    },
    "tags": []
   },
   "outputs": [
    {
     "name": "stdout",
     "output_type": "stream",
     "text": [
      "REPLICAS:  1\n"
     ]
    }
   ],
   "source": [
    "# Detect hardware, return appropriate distribution strategy\n",
    "try:\n",
    "    tpu = tf.distribute.cluster_resolver.TPUClusterResolver()  # TPU detection. No parameters necessary if TPU_NAME environment variable is set. On Kaggle this is always the case.\n",
    "    print('Running on TPU ', tpu.master())\n",
    "except ValueError:\n",
    "    tpu = None\n",
    "\n",
    "if tpu:\n",
    "    tf.config.experimental_connect_to_cluster(tpu)\n",
    "    tf.tpu.experimental.initialize_tpu_system(tpu)\n",
    "    strategy = tf.distribute.experimental.TPUStrategy(tpu)\n",
    "else:\n",
    "    strategy = tf.distribute.get_strategy() # default distribution strategy in Tensorflow. Works on CPU and single GPU.\n",
    "\n",
    "print(\"REPLICAS: \", strategy.num_replicas_in_sync)"
   ]
  },
  {
   "cell_type": "code",
   "execution_count": 4,
   "id": "37f7de0e",
   "metadata": {
    "execution": {
     "iopub.execute_input": "2022-07-25T10:52:12.339535Z",
     "iopub.status.busy": "2022-07-25T10:52:12.339343Z",
     "iopub.status.idle": "2022-07-25T10:52:12.345090Z",
     "shell.execute_reply": "2022-07-25T10:52:12.344314Z"
    },
    "papermill": {
     "duration": 0.024606,
     "end_time": "2022-07-25T10:52:12.347076",
     "exception": false,
     "start_time": "2022-07-25T10:52:12.322470",
     "status": "completed"
    },
    "tags": []
   },
   "outputs": [
    {
     "name": "stdout",
     "output_type": "stream",
     "text": [
      "Accelerated Linear Algebra enabled\n"
     ]
    }
   ],
   "source": [
    "MIXED_PRECISION = False\n",
    "XLA_ACCELERATE = True\n",
    "\n",
    "if MIXED_PRECISION:\n",
    "    from tensorflow.keras.mixed_precision import experimental as mixed_precision\n",
    "    if tpu: policy = tf.keras.mixed_precision.experimental.Policy('mixed_bfloat16')\n",
    "    else: policy = tf.keras.mixed_precision.experimental.Policy('mixed_float16')\n",
    "    mixed_precision.set_policy(policy)\n",
    "    print('Mixed precision enabled')\n",
    "\n",
    "if XLA_ACCELERATE:\n",
    "    tf.config.optimizer.set_jit(True)\n",
    "    print('Accelerated Linear Algebra enabled')"
   ]
  },
  {
   "cell_type": "code",
   "execution_count": 5,
   "id": "861457d1",
   "metadata": {
    "execution": {
     "iopub.execute_input": "2022-07-25T10:52:12.381442Z",
     "iopub.status.busy": "2022-07-25T10:52:12.381015Z",
     "iopub.status.idle": "2022-07-25T10:52:12.384492Z",
     "shell.execute_reply": "2022-07-25T10:52:12.383819Z"
    },
    "papermill": {
     "duration": 0.022475,
     "end_time": "2022-07-25T10:52:12.386263",
     "exception": false,
     "start_time": "2022-07-25T10:52:12.363788",
     "status": "completed"
    },
    "tags": []
   },
   "outputs": [],
   "source": [
    "data_dir = \"../input/buildin/\"\n",
    "batch_size = 32\n",
    "img_height = 180\n",
    "img_width = 180"
   ]
  },
  {
   "cell_type": "code",
   "execution_count": null,
   "id": "95c682df",
   "metadata": {
    "papermill": {
     "duration": 0.016303,
     "end_time": "2022-07-25T10:52:12.418783",
     "exception": false,
     "start_time": "2022-07-25T10:52:12.402480",
     "status": "completed"
    },
    "tags": []
   },
   "outputs": [],
   "source": []
  },
  {
   "cell_type": "code",
   "execution_count": 6,
   "id": "b24add69",
   "metadata": {
    "execution": {
     "iopub.execute_input": "2022-07-25T10:52:12.453797Z",
     "iopub.status.busy": "2022-07-25T10:52:12.453468Z",
     "iopub.status.idle": "2022-07-25T10:52:18.635148Z",
     "shell.execute_reply": "2022-07-25T10:52:18.633595Z"
    },
    "papermill": {
     "duration": 6.201252,
     "end_time": "2022-07-25T10:52:18.637888",
     "exception": false,
     "start_time": "2022-07-25T10:52:12.436636",
     "status": "completed"
    },
    "tags": []
   },
   "outputs": [
    {
     "name": "stdout",
     "output_type": "stream",
     "text": [
      "Found 8063 files belonging to 5 classes.\n",
      "Using 6451 files for training.\n"
     ]
    },
    {
     "name": "stderr",
     "output_type": "stream",
     "text": [
      "2022-07-25 10:52:14.768973: I tensorflow/stream_executor/cuda/cuda_gpu_executor.cc:937] successful NUMA node read from SysFS had negative value (-1), but there must be at least one NUMA node, so returning NUMA node zero\n",
      "2022-07-25 10:52:14.863128: I tensorflow/stream_executor/cuda/cuda_gpu_executor.cc:937] successful NUMA node read from SysFS had negative value (-1), but there must be at least one NUMA node, so returning NUMA node zero\n",
      "2022-07-25 10:52:14.863834: I tensorflow/stream_executor/cuda/cuda_gpu_executor.cc:937] successful NUMA node read from SysFS had negative value (-1), but there must be at least one NUMA node, so returning NUMA node zero\n",
      "2022-07-25 10:52:14.865237: I tensorflow/core/platform/cpu_feature_guard.cc:142] This TensorFlow binary is optimized with oneAPI Deep Neural Network Library (oneDNN) to use the following CPU instructions in performance-critical operations:  AVX2 AVX512F FMA\n",
      "To enable them in other operations, rebuild TensorFlow with the appropriate compiler flags.\n",
      "2022-07-25 10:52:14.865587: I tensorflow/stream_executor/cuda/cuda_gpu_executor.cc:937] successful NUMA node read from SysFS had negative value (-1), but there must be at least one NUMA node, so returning NUMA node zero\n",
      "2022-07-25 10:52:14.866430: I tensorflow/stream_executor/cuda/cuda_gpu_executor.cc:937] successful NUMA node read from SysFS had negative value (-1), but there must be at least one NUMA node, so returning NUMA node zero\n",
      "2022-07-25 10:52:14.867126: I tensorflow/stream_executor/cuda/cuda_gpu_executor.cc:937] successful NUMA node read from SysFS had negative value (-1), but there must be at least one NUMA node, so returning NUMA node zero\n",
      "2022-07-25 10:52:17.083563: I tensorflow/stream_executor/cuda/cuda_gpu_executor.cc:937] successful NUMA node read from SysFS had negative value (-1), but there must be at least one NUMA node, so returning NUMA node zero\n",
      "2022-07-25 10:52:17.084455: I tensorflow/stream_executor/cuda/cuda_gpu_executor.cc:937] successful NUMA node read from SysFS had negative value (-1), but there must be at least one NUMA node, so returning NUMA node zero\n",
      "2022-07-25 10:52:17.085180: I tensorflow/stream_executor/cuda/cuda_gpu_executor.cc:937] successful NUMA node read from SysFS had negative value (-1), but there must be at least one NUMA node, so returning NUMA node zero\n",
      "2022-07-25 10:52:17.086505: I tensorflow/core/common_runtime/gpu/gpu_device.cc:1510] Created device /job:localhost/replica:0/task:0/device:GPU:0 with 15403 MB memory:  -> device: 0, name: Tesla P100-PCIE-16GB, pci bus id: 0000:00:04.0, compute capability: 6.0\n"
     ]
    },
    {
     "name": "stdout",
     "output_type": "stream",
     "text": [
      "Found 8063 files belonging to 5 classes.\n",
      "Using 1612 files for validation.\n"
     ]
    }
   ],
   "source": [
    "image_size = (180, 180)\n",
    "batch_size = 32\n",
    "\n",
    "train_ds = tf.keras.preprocessing.image_dataset_from_directory(\n",
    "    \"../input/buildin\",\n",
    "    validation_split=0.2,\n",
    "    subset=\"training\",\n",
    "    seed=1337,\n",
    "    image_size=image_size,\n",
    "    batch_size=batch_size,\n",
    ")\n",
    "val_ds = tf.keras.preprocessing.image_dataset_from_directory(\n",
    "    \"../input/buildin\",\n",
    "    validation_split=0.2,\n",
    "    subset=\"validation\",\n",
    "    seed=1337,\n",
    "    image_size=image_size,\n",
    "    batch_size=batch_size,\n",
    ")"
   ]
  },
  {
   "cell_type": "code",
   "execution_count": 7,
   "id": "abd10474",
   "metadata": {
    "execution": {
     "iopub.execute_input": "2022-07-25T10:52:18.695784Z",
     "iopub.status.busy": "2022-07-25T10:52:18.695574Z",
     "iopub.status.idle": "2022-07-25T10:52:18.704163Z",
     "shell.execute_reply": "2022-07-25T10:52:18.703028Z"
    },
    "papermill": {
     "duration": 0.040759,
     "end_time": "2022-07-25T10:52:18.706321",
     "exception": false,
     "start_time": "2022-07-25T10:52:18.665562",
     "status": "completed"
    },
    "tags": []
   },
   "outputs": [],
   "source": [
    "def model_builder(hp):\n",
    "  model = keras.Sequential()\n",
    "  model.add(keras.layers.Flatten(input_shape=(180, 180,3)))\n",
    "\n",
    "  # Tune the number of units in the first Dense layer\n",
    "  # Choose an optimal value between 32-512\n",
    "  hp_units = hp.Int('units', min_value=32, max_value=512, step=32)\n",
    "  model.add(keras.layers.Dense(units=hp_units, activation='relu'))\n",
    "  model.add(keras.layers.Dense(10))\n",
    "\n",
    "  # Tune the learning rate for the optimizer\n",
    "  # Choose an optimal value from 0.01, 0.001, or 0.0001\n",
    "  hp_learning_rate = hp.Choice('learning_rate', values=[1e-2, 1e-3, 1e-4])\n",
    "\n",
    "  model.compile(optimizer=keras.optimizers.Adam(learning_rate=hp_learning_rate),\n",
    "                loss=keras.losses.SparseCategoricalCrossentropy(from_logits=True),\n",
    "                metrics=['accuracy'])\n",
    "\n",
    "  return model"
   ]
  },
  {
   "cell_type": "code",
   "execution_count": 8,
   "id": "d10d97dc",
   "metadata": {
    "execution": {
     "iopub.execute_input": "2022-07-25T10:52:18.763353Z",
     "iopub.status.busy": "2022-07-25T10:52:18.763044Z",
     "iopub.status.idle": "2022-07-25T10:52:18.858468Z",
     "shell.execute_reply": "2022-07-25T10:52:18.857843Z"
    },
    "papermill": {
     "duration": 0.126665,
     "end_time": "2022-07-25T10:52:18.860652",
     "exception": false,
     "start_time": "2022-07-25T10:52:18.733987",
     "status": "completed"
    },
    "tags": []
   },
   "outputs": [],
   "source": [
    "tuner = kt.Hyperband(model_builder,\n",
    "                     objective='val_accuracy',\n",
    "                     max_epochs=10,\n",
    "                     factor=3,\n",
    "                     directory='my_dir',\n",
    "                     project_name='intro_to_kt')"
   ]
  },
  {
   "cell_type": "code",
   "execution_count": 9,
   "id": "d7a161bb",
   "metadata": {
    "execution": {
     "iopub.execute_input": "2022-07-25T10:52:18.922270Z",
     "iopub.status.busy": "2022-07-25T10:52:18.922032Z",
     "iopub.status.idle": "2022-07-25T10:52:18.925824Z",
     "shell.execute_reply": "2022-07-25T10:52:18.925162Z"
    },
    "papermill": {
     "duration": 0.039652,
     "end_time": "2022-07-25T10:52:18.929717",
     "exception": false,
     "start_time": "2022-07-25T10:52:18.890065",
     "status": "completed"
    },
    "tags": []
   },
   "outputs": [],
   "source": [
    "stop_early = tf.keras.callbacks.EarlyStopping(monitor='val_loss', patience=5)"
   ]
  },
  {
   "cell_type": "code",
   "execution_count": 10,
   "id": "67185daf",
   "metadata": {
    "execution": {
     "iopub.execute_input": "2022-07-25T10:52:18.986095Z",
     "iopub.status.busy": "2022-07-25T10:52:18.985832Z",
     "iopub.status.idle": "2022-07-25T12:11:09.389449Z",
     "shell.execute_reply": "2022-07-25T12:11:09.387579Z"
    },
    "papermill": {
     "duration": 4730.434211,
     "end_time": "2022-07-25T12:11:09.391375",
     "exception": false,
     "start_time": "2022-07-25T10:52:18.957164",
     "status": "completed"
    },
    "tags": []
   },
   "outputs": [
    {
     "name": "stdout",
     "output_type": "stream",
     "text": [
      "Trial 30 Complete [00h 05m 10s]\n",
      "val_accuracy: 0.9212158918380737\n",
      "\n",
      "Best val_accuracy So Far: 0.9292804002761841\n",
      "Total elapsed time: 01h 18m 50s\n",
      "\n",
      "The hyperparameter search is complete. The optimal number of units in the first densely-connected\n",
      "layer is 480 and the optimal learning rate for the optimizer\n",
      "is 0.0001.\n",
      "\n"
     ]
    }
   ],
   "source": [
    "with tf.device('/GPU:0'): # training executed on NVIDIA Tesla V100\n",
    "    tuner.search(train_ds, epochs=50, validation_data=val_ds, callbacks=[stop_early])\n",
    "\n",
    "# Get the optimal hyperparameters\n",
    "best_hps=tuner.get_best_hyperparameters(num_trials=1)[0]\n",
    "\n",
    "print(f\"\"\"\n",
    "The hyperparameter search is complete. The optimal number of units in the first densely-connected\n",
    "layer is {best_hps.get('units')} and the optimal learning rate for the optimizer\n",
    "is {best_hps.get('learning_rate')}.\n",
    "\"\"\")"
   ]
  },
  {
   "cell_type": "code",
   "execution_count": 11,
   "id": "928d0bd2",
   "metadata": {
    "execution": {
     "iopub.execute_input": "2022-07-25T12:11:09.430747Z",
     "iopub.status.busy": "2022-07-25T12:11:09.429609Z",
     "iopub.status.idle": "2022-07-25T12:42:39.120333Z",
     "shell.execute_reply": "2022-07-25T12:42:39.119582Z"
    },
    "papermill": {
     "duration": 1893.642291,
     "end_time": "2022-07-25T12:42:43.052614",
     "exception": false,
     "start_time": "2022-07-25T12:11:09.410323",
     "status": "completed"
    },
    "tags": []
   },
   "outputs": [
    {
     "name": "stdout",
     "output_type": "stream",
     "text": [
      "Epoch 1/50\n",
      "202/202 [==============================] - 38s 178ms/step - loss: 296.0723 - accuracy: 0.5838 - val_loss: 23.2607 - val_accuracy: 0.7854\n",
      "Epoch 2/50\n",
      "202/202 [==============================] - 35s 167ms/step - loss: 29.3442 - accuracy: 0.7534 - val_loss: 16.0613 - val_accuracy: 0.8102\n",
      "Epoch 3/50\n",
      "202/202 [==============================] - 35s 169ms/step - loss: 23.1281 - accuracy: 0.7976 - val_loss: 40.2641 - val_accuracy: 0.8337\n",
      "Epoch 4/50\n",
      "202/202 [==============================] - 35s 168ms/step - loss: 22.2253 - accuracy: 0.8267 - val_loss: 10.7824 - val_accuracy: 0.8902\n",
      "Epoch 5/50\n",
      "202/202 [==============================] - 36s 171ms/step - loss: 11.6845 - accuracy: 0.8884 - val_loss: 9.0929 - val_accuracy: 0.9100\n",
      "Epoch 6/50\n",
      "202/202 [==============================] - 35s 168ms/step - loss: 15.1050 - accuracy: 0.8737 - val_loss: 24.5020 - val_accuracy: 0.7916\n",
      "Epoch 7/50\n",
      "202/202 [==============================] - 36s 171ms/step - loss: 24.7726 - accuracy: 0.8530 - val_loss: 7.8783 - val_accuracy: 0.9200\n",
      "Epoch 8/50\n",
      "202/202 [==============================] - 35s 170ms/step - loss: 18.4495 - accuracy: 0.8718 - val_loss: 20.2119 - val_accuracy: 0.8468\n",
      "Epoch 9/50\n",
      "202/202 [==============================] - 40s 190ms/step - loss: 12.0465 - accuracy: 0.8999 - val_loss: 29.6231 - val_accuracy: 0.7922\n",
      "Epoch 10/50\n",
      "202/202 [==============================] - 36s 171ms/step - loss: 9.4950 - accuracy: 0.9217 - val_loss: 10.8640 - val_accuracy: 0.9032\n",
      "Epoch 11/50\n",
      "202/202 [==============================] - 36s 172ms/step - loss: 7.1268 - accuracy: 0.9366 - val_loss: 13.4384 - val_accuracy: 0.9113\n",
      "Epoch 12/50\n",
      "202/202 [==============================] - 35s 164ms/step - loss: 12.4560 - accuracy: 0.9085 - val_loss: 31.4240 - val_accuracy: 0.8443\n",
      "Epoch 13/50\n",
      "202/202 [==============================] - 36s 169ms/step - loss: 9.4496 - accuracy: 0.9403 - val_loss: 12.0737 - val_accuracy: 0.9144\n",
      "Epoch 14/50\n",
      "202/202 [==============================] - 36s 168ms/step - loss: 4.1375 - accuracy: 0.9533 - val_loss: 23.0003 - val_accuracy: 0.8939\n",
      "Epoch 15/50\n",
      "202/202 [==============================] - 36s 167ms/step - loss: 6.2313 - accuracy: 0.9507 - val_loss: 22.2519 - val_accuracy: 0.9007\n",
      "Epoch 16/50\n",
      "202/202 [==============================] - 35s 169ms/step - loss: 8.2848 - accuracy: 0.9397 - val_loss: 6.9995 - val_accuracy: 0.9404\n",
      "Epoch 17/50\n",
      "202/202 [==============================] - 37s 178ms/step - loss: 8.8286 - accuracy: 0.9371 - val_loss: 24.8511 - val_accuracy: 0.8598\n",
      "Epoch 18/50\n",
      "202/202 [==============================] - 36s 173ms/step - loss: 4.6881 - accuracy: 0.9600 - val_loss: 9.0979 - val_accuracy: 0.9311\n",
      "Epoch 19/50\n",
      "202/202 [==============================] - 36s 175ms/step - loss: 6.4761 - accuracy: 0.9568 - val_loss: 6.2389 - val_accuracy: 0.9628\n",
      "Epoch 20/50\n",
      "202/202 [==============================] - 36s 173ms/step - loss: 4.1734 - accuracy: 0.9623 - val_loss: 12.2688 - val_accuracy: 0.9175\n",
      "Epoch 21/50\n",
      "202/202 [==============================] - 36s 171ms/step - loss: 8.1129 - accuracy: 0.9459 - val_loss: 18.5877 - val_accuracy: 0.8902\n",
      "Epoch 22/50\n",
      "202/202 [==============================] - 36s 175ms/step - loss: 4.3613 - accuracy: 0.9636 - val_loss: 10.0691 - val_accuracy: 0.9287\n",
      "Epoch 23/50\n",
      "202/202 [==============================] - 37s 175ms/step - loss: 2.6260 - accuracy: 0.9803 - val_loss: 7.9331 - val_accuracy: 0.9460\n",
      "Epoch 24/50\n",
      "202/202 [==============================] - 41s 197ms/step - loss: 2.3008 - accuracy: 0.9795 - val_loss: 9.5695 - val_accuracy: 0.9442\n",
      "Epoch 25/50\n",
      "202/202 [==============================] - 37s 177ms/step - loss: 2.9634 - accuracy: 0.9750 - val_loss: 11.1254 - val_accuracy: 0.9231\n",
      "Epoch 26/50\n",
      "202/202 [==============================] - 36s 167ms/step - loss: 3.1049 - accuracy: 0.9718 - val_loss: 8.0241 - val_accuracy: 0.9529\n",
      "Epoch 27/50\n",
      "202/202 [==============================] - 37s 172ms/step - loss: 3.8716 - accuracy: 0.9645 - val_loss: 35.2243 - val_accuracy: 0.8685\n",
      "Epoch 28/50\n",
      "202/202 [==============================] - 37s 176ms/step - loss: 13.0212 - accuracy: 0.9337 - val_loss: 12.6459 - val_accuracy: 0.9417\n",
      "Epoch 29/50\n",
      "202/202 [==============================] - 36s 175ms/step - loss: 3.4341 - accuracy: 0.9709 - val_loss: 7.6653 - val_accuracy: 0.9553\n",
      "Epoch 30/50\n",
      "202/202 [==============================] - 37s 176ms/step - loss: 0.6132 - accuracy: 0.9932 - val_loss: 10.6445 - val_accuracy: 0.9423\n",
      "Epoch 31/50\n",
      "202/202 [==============================] - 37s 176ms/step - loss: 2.7116 - accuracy: 0.9767 - val_loss: 24.2371 - val_accuracy: 0.8486\n",
      "Epoch 32/50\n",
      "202/202 [==============================] - 36s 174ms/step - loss: 5.1066 - accuracy: 0.9661 - val_loss: 9.1188 - val_accuracy: 0.9473\n",
      "Epoch 33/50\n",
      "202/202 [==============================] - 37s 177ms/step - loss: 11.8643 - accuracy: 0.9495 - val_loss: 8.9424 - val_accuracy: 0.9435\n",
      "Epoch 34/50\n",
      "202/202 [==============================] - 36s 169ms/step - loss: 5.3300 - accuracy: 0.9589 - val_loss: 6.9827 - val_accuracy: 0.9491\n",
      "Epoch 35/50\n",
      "202/202 [==============================] - 40s 188ms/step - loss: 1.2718 - accuracy: 0.9833 - val_loss: 38.6814 - val_accuracy: 0.8573\n",
      "Epoch 36/50\n",
      "202/202 [==============================] - 37s 171ms/step - loss: 4.0393 - accuracy: 0.9665 - val_loss: 31.6396 - val_accuracy: 0.8685\n",
      "Epoch 37/50\n",
      "202/202 [==============================] - 37s 178ms/step - loss: 2.0514 - accuracy: 0.9822 - val_loss: 6.8797 - val_accuracy: 0.9553\n",
      "Epoch 38/50\n",
      "202/202 [==============================] - 37s 178ms/step - loss: 1.5803 - accuracy: 0.9857 - val_loss: 13.0002 - val_accuracy: 0.9119\n",
      "Epoch 39/50\n",
      "202/202 [==============================] - 37s 177ms/step - loss: 2.5162 - accuracy: 0.9772 - val_loss: 14.5482 - val_accuracy: 0.9293\n",
      "Epoch 40/50\n",
      "202/202 [==============================] - 37s 179ms/step - loss: 3.7109 - accuracy: 0.9744 - val_loss: 4.9335 - val_accuracy: 0.9634\n",
      "Epoch 41/50\n",
      "202/202 [==============================] - 38s 181ms/step - loss: 2.7309 - accuracy: 0.9788 - val_loss: 27.3255 - val_accuracy: 0.8759\n",
      "Epoch 42/50\n",
      "202/202 [==============================] - 37s 180ms/step - loss: 1.4479 - accuracy: 0.9862 - val_loss: 7.6527 - val_accuracy: 0.9510\n",
      "Epoch 43/50\n",
      "202/202 [==============================] - 37s 179ms/step - loss: 0.9380 - accuracy: 0.9882 - val_loss: 6.4325 - val_accuracy: 0.9677\n",
      "Epoch 44/50\n",
      "202/202 [==============================] - 37s 177ms/step - loss: 1.7605 - accuracy: 0.9836 - val_loss: 11.0861 - val_accuracy: 0.9467\n",
      "Epoch 45/50\n",
      "202/202 [==============================] - 37s 180ms/step - loss: 0.4040 - accuracy: 0.9955 - val_loss: 12.5930 - val_accuracy: 0.9330\n",
      "Epoch 46/50\n",
      "202/202 [==============================] - 37s 176ms/step - loss: 2.9385 - accuracy: 0.9755 - val_loss: 14.4804 - val_accuracy: 0.9287\n",
      "Epoch 47/50\n",
      "202/202 [==============================] - 35s 169ms/step - loss: 1.9620 - accuracy: 0.9781 - val_loss: 5.7587 - val_accuracy: 0.9622\n",
      "Epoch 48/50\n",
      "202/202 [==============================] - 37s 175ms/step - loss: 7.2242 - accuracy: 0.9661 - val_loss: 8.1139 - val_accuracy: 0.9553\n",
      "Epoch 49/50\n",
      "202/202 [==============================] - 35s 168ms/step - loss: 0.2612 - accuracy: 0.9963 - val_loss: 3.3951 - val_accuracy: 0.9640\n",
      "Epoch 50/50\n",
      "202/202 [==============================] - 37s 173ms/step - loss: 0.0607 - accuracy: 0.9984 - val_loss: 2.7271 - val_accuracy: 0.9833\n",
      "Best epoch: 50\n"
     ]
    }
   ],
   "source": [
    "# Build the model with the optimal hyperparameters and train it on the data for 50 epochs\n",
    "model = tuner.hypermodel.build(best_hps)\n",
    "with tf.device('/GPU:0'): # training executed on NVIDIA Tesla V100\n",
    "    history = model.fit(train_ds,validation_data=val_ds, epochs=50)\n",
    "\n",
    "val_acc_per_epoch = history.history['val_accuracy']\n",
    "best_epoch = val_acc_per_epoch.index(max(val_acc_per_epoch)) + 1\n",
    "print('Best epoch: %d' % (best_epoch,))"
   ]
  },
  {
   "cell_type": "code",
   "execution_count": 12,
   "id": "7db08f01",
   "metadata": {
    "execution": {
     "iopub.execute_input": "2022-07-25T12:42:49.323546Z",
     "iopub.status.busy": "2022-07-25T12:42:49.322920Z",
     "iopub.status.idle": "2022-07-25T13:17:01.811669Z",
     "shell.execute_reply": "2022-07-25T13:17:01.810984Z"
    },
    "papermill": {
     "duration": 2061.719737,
     "end_time": "2022-07-25T13:17:07.964173",
     "exception": false,
     "start_time": "2022-07-25T12:42:46.244436",
     "status": "completed"
    },
    "tags": []
   },
   "outputs": [
    {
     "name": "stdout",
     "output_type": "stream",
     "text": [
      "Epoch 1/50\n",
      "202/202 [==============================] - 36s 172ms/step - loss: 321.2139 - accuracy: 0.5843 - val_loss: 24.2007 - val_accuracy: 0.8077\n",
      "Epoch 2/50\n",
      "202/202 [==============================] - 41s 200ms/step - loss: 61.6847 - accuracy: 0.7393 - val_loss: 35.9448 - val_accuracy: 0.7971\n",
      "Epoch 3/50\n",
      "202/202 [==============================] - 43s 201ms/step - loss: 43.3532 - accuracy: 0.7969 - val_loss: 247.3592 - val_accuracy: 0.4913\n",
      "Epoch 4/50\n",
      "202/202 [==============================] - 40s 189ms/step - loss: 43.0571 - accuracy: 0.8365 - val_loss: 17.2219 - val_accuracy: 0.8914\n",
      "Epoch 5/50\n",
      "202/202 [==============================] - 41s 190ms/step - loss: 39.3112 - accuracy: 0.8352 - val_loss: 25.8403 - val_accuracy: 0.8573\n",
      "Epoch 6/50\n",
      "202/202 [==============================] - 40s 188ms/step - loss: 38.9155 - accuracy: 0.8517 - val_loss: 28.4171 - val_accuracy: 0.8530\n",
      "Epoch 7/50\n",
      "202/202 [==============================] - 40s 187ms/step - loss: 13.8860 - accuracy: 0.9239 - val_loss: 72.1582 - val_accuracy: 0.7568\n",
      "Epoch 8/50\n",
      "202/202 [==============================] - 47s 223ms/step - loss: 16.2729 - accuracy: 0.9188 - val_loss: 15.6333 - val_accuracy: 0.9007\n",
      "Epoch 9/50\n",
      "202/202 [==============================] - 40s 191ms/step - loss: 11.2506 - accuracy: 0.9358 - val_loss: 12.4528 - val_accuracy: 0.9076\n",
      "Epoch 10/50\n",
      "202/202 [==============================] - 38s 183ms/step - loss: 15.4584 - accuracy: 0.9219 - val_loss: 51.1963 - val_accuracy: 0.8133\n",
      "Epoch 11/50\n",
      "202/202 [==============================] - 38s 183ms/step - loss: 10.0269 - accuracy: 0.9405 - val_loss: 20.3998 - val_accuracy: 0.9045\n",
      "Epoch 12/50\n",
      "202/202 [==============================] - 36s 172ms/step - loss: 18.6701 - accuracy: 0.9143 - val_loss: 57.0093 - val_accuracy: 0.8065\n",
      "Epoch 13/50\n",
      "202/202 [==============================] - 38s 183ms/step - loss: 12.1569 - accuracy: 0.9388 - val_loss: 11.8940 - val_accuracy: 0.9330\n",
      "Epoch 14/50\n",
      "202/202 [==============================] - 36s 170ms/step - loss: 7.1957 - accuracy: 0.9515 - val_loss: 16.7214 - val_accuracy: 0.9206\n",
      "Epoch 15/50\n",
      "202/202 [==============================] - 38s 178ms/step - loss: 11.8421 - accuracy: 0.9450 - val_loss: 21.6465 - val_accuracy: 0.9119\n",
      "Epoch 16/50\n",
      "202/202 [==============================] - 35s 168ms/step - loss: 19.0571 - accuracy: 0.9239 - val_loss: 13.2509 - val_accuracy: 0.9342\n",
      "Epoch 17/50\n",
      "202/202 [==============================] - 38s 180ms/step - loss: 5.9129 - accuracy: 0.9612 - val_loss: 15.5155 - val_accuracy: 0.9373\n",
      "Epoch 18/50\n",
      "202/202 [==============================] - 38s 184ms/step - loss: 11.4928 - accuracy: 0.9434 - val_loss: 25.4596 - val_accuracy: 0.9138\n",
      "Epoch 19/50\n",
      "202/202 [==============================] - 34s 165ms/step - loss: 2.8477 - accuracy: 0.9794 - val_loss: 15.8461 - val_accuracy: 0.9411\n",
      "Epoch 20/50\n",
      "202/202 [==============================] - 39s 186ms/step - loss: 2.2640 - accuracy: 0.9829 - val_loss: 9.1938 - val_accuracy: 0.9634\n",
      "Epoch 21/50\n",
      "202/202 [==============================] - 35s 166ms/step - loss: 16.8886 - accuracy: 0.9375 - val_loss: 24.1330 - val_accuracy: 0.9163\n",
      "Epoch 22/50\n",
      "202/202 [==============================] - 39s 186ms/step - loss: 4.1312 - accuracy: 0.9724 - val_loss: 32.9161 - val_accuracy: 0.9045\n",
      "Epoch 23/50\n",
      "202/202 [==============================] - 35s 168ms/step - loss: 3.6988 - accuracy: 0.9763 - val_loss: 10.7212 - val_accuracy: 0.9560\n",
      "Epoch 24/50\n",
      "202/202 [==============================] - 39s 181ms/step - loss: 21.5327 - accuracy: 0.9168 - val_loss: 57.2637 - val_accuracy: 0.8337\n",
      "Epoch 25/50\n",
      "202/202 [==============================] - 35s 169ms/step - loss: 5.6449 - accuracy: 0.9698 - val_loss: 9.3711 - val_accuracy: 0.9491\n",
      "Epoch 26/50\n",
      "202/202 [==============================] - 39s 182ms/step - loss: 0.8226 - accuracy: 0.9921 - val_loss: 12.6672 - val_accuracy: 0.9404\n",
      "Epoch 27/50\n",
      "202/202 [==============================] - 34s 165ms/step - loss: 1.0737 - accuracy: 0.9890 - val_loss: 6.1781 - val_accuracy: 0.9708\n",
      "Epoch 28/50\n",
      "202/202 [==============================] - 39s 184ms/step - loss: 2.5862 - accuracy: 0.9808 - val_loss: 5.7013 - val_accuracy: 0.9671\n",
      "Epoch 29/50\n",
      "202/202 [==============================] - 35s 169ms/step - loss: 13.7501 - accuracy: 0.9406 - val_loss: 8.4817 - val_accuracy: 0.9628\n",
      "Epoch 30/50\n",
      "202/202 [==============================] - 47s 223ms/step - loss: 2.3160 - accuracy: 0.9823 - val_loss: 18.1654 - val_accuracy: 0.9280\n",
      "Epoch 31/50\n",
      "202/202 [==============================] - 46s 222ms/step - loss: 5.7425 - accuracy: 0.9656 - val_loss: 20.3890 - val_accuracy: 0.9181\n",
      "Epoch 32/50\n",
      "202/202 [==============================] - 39s 188ms/step - loss: 3.9843 - accuracy: 0.9740 - val_loss: 15.0957 - val_accuracy: 0.9342\n",
      "Epoch 33/50\n",
      "202/202 [==============================] - 38s 181ms/step - loss: 5.9902 - accuracy: 0.9684 - val_loss: 6.7348 - val_accuracy: 0.9640\n",
      "Epoch 34/50\n",
      "202/202 [==============================] - 39s 184ms/step - loss: 1.3367 - accuracy: 0.9874 - val_loss: 7.0485 - val_accuracy: 0.9615\n",
      "Epoch 35/50\n",
      "202/202 [==============================] - 35s 166ms/step - loss: 1.3054 - accuracy: 0.9876 - val_loss: 8.4500 - val_accuracy: 0.9597\n",
      "Epoch 36/50\n",
      "202/202 [==============================] - 35s 168ms/step - loss: 0.7801 - accuracy: 0.9932 - val_loss: 8.6056 - val_accuracy: 0.9498\n",
      "Epoch 37/50\n",
      "202/202 [==============================] - 39s 189ms/step - loss: 2.2485 - accuracy: 0.9829 - val_loss: 4.6308 - val_accuracy: 0.9808\n",
      "Epoch 38/50\n",
      "202/202 [==============================] - 35s 168ms/step - loss: 0.9601 - accuracy: 0.9899 - val_loss: 27.2466 - val_accuracy: 0.9001\n",
      "Epoch 39/50\n",
      "202/202 [==============================] - 40s 192ms/step - loss: 2.8734 - accuracy: 0.9805 - val_loss: 14.9812 - val_accuracy: 0.9349\n",
      "Epoch 40/50\n",
      "202/202 [==============================] - 35s 169ms/step - loss: 10.7056 - accuracy: 0.9513 - val_loss: 36.6915 - val_accuracy: 0.9169\n",
      "Epoch 41/50\n",
      "202/202 [==============================] - 39s 186ms/step - loss: 3.5138 - accuracy: 0.9820 - val_loss: 15.5609 - val_accuracy: 0.9460\n",
      "Epoch 42/50\n",
      "202/202 [==============================] - 36s 174ms/step - loss: 2.0096 - accuracy: 0.9882 - val_loss: 28.3441 - val_accuracy: 0.9194\n",
      "Epoch 43/50\n",
      "202/202 [==============================] - 40s 186ms/step - loss: 1.5289 - accuracy: 0.9860 - val_loss: 9.0006 - val_accuracy: 0.9553\n",
      "Epoch 44/50\n",
      "202/202 [==============================] - 35s 166ms/step - loss: 3.9325 - accuracy: 0.9723 - val_loss: 25.4740 - val_accuracy: 0.9038\n",
      "Epoch 45/50\n",
      "202/202 [==============================] - 40s 187ms/step - loss: 1.7118 - accuracy: 0.9859 - val_loss: 4.8952 - val_accuracy: 0.9789\n",
      "Epoch 46/50\n",
      "202/202 [==============================] - 35s 168ms/step - loss: 2.0295 - accuracy: 0.9843 - val_loss: 9.1103 - val_accuracy: 0.9498\n",
      "Epoch 47/50\n",
      "202/202 [==============================] - 40s 186ms/step - loss: 0.6020 - accuracy: 0.9946 - val_loss: 10.5917 - val_accuracy: 0.9541\n",
      "Epoch 48/50\n",
      "202/202 [==============================] - 35s 169ms/step - loss: 1.7706 - accuracy: 0.9864 - val_loss: 11.9879 - val_accuracy: 0.9553\n",
      "Epoch 49/50\n",
      "202/202 [==============================] - 39s 183ms/step - loss: 4.4066 - accuracy: 0.9747 - val_loss: 5.5382 - val_accuracy: 0.9690\n",
      "Epoch 50/50\n",
      "202/202 [==============================] - 40s 195ms/step - loss: 0.6325 - accuracy: 0.9949 - val_loss: 2.2691 - val_accuracy: 0.9857\n"
     ]
    },
    {
     "data": {
      "text/plain": [
       "<keras.callbacks.History at 0x7ff6b445aed0>"
      ]
     },
     "execution_count": 12,
     "metadata": {},
     "output_type": "execute_result"
    }
   ],
   "source": [
    "hypermodel = tuner.hypermodel.build(best_hps)\n",
    "\n",
    "# Retrain the model\n",
    "hypermodel.fit(train_ds,validation_data=val_ds, epochs=best_epoch)"
   ]
  },
  {
   "cell_type": "code",
   "execution_count": 13,
   "id": "e5732694",
   "metadata": {
    "execution": {
     "iopub.execute_input": "2022-07-25T13:17:21.442630Z",
     "iopub.status.busy": "2022-07-25T13:17:21.442354Z",
     "iopub.status.idle": "2022-07-25T13:17:57.369638Z",
     "shell.execute_reply": "2022-07-25T13:17:57.368556Z"
    },
    "papermill": {
     "duration": 42.888862,
     "end_time": "2022-07-25T13:17:57.372160",
     "exception": false,
     "start_time": "2022-07-25T13:17:14.483298",
     "status": "completed"
    },
    "tags": []
   },
   "outputs": [
    {
     "name": "stdout",
     "output_type": "stream",
     "text": [
      "Collecting tensorflowjs\r\n",
      "  Downloading tensorflowjs-3.19.0-py3-none-any.whl (78 kB)\r\n",
      "\u001b[2K     \u001b[90m━━━━━━━━━━━━━━━━━━━━━━━━━━━━━━━━━━━━━━━\u001b[0m \u001b[32m78.4/78.4 KB\u001b[0m \u001b[31m309.1 kB/s\u001b[0m eta \u001b[36m0:00:00\u001b[0m\r\n",
      "\u001b[?25hRequirement already satisfied: six<2,>=1.12.0 in /opt/conda/lib/python3.7/site-packages (from tensorflowjs) (1.16.0)\r\n",
      "Requirement already satisfied: tensorflow-hub<0.13,>=0.7.0 in /opt/conda/lib/python3.7/site-packages (from tensorflowjs) (0.12.0)\r\n",
      "Collecting packaging~=20.9\r\n",
      "  Downloading packaging-20.9-py2.py3-none-any.whl (40 kB)\r\n",
      "\u001b[2K     \u001b[90m━━━━━━━━━━━━━━━━━━━━━━━━━━━━━━━━━━━━━━━━\u001b[0m \u001b[32m40.9/40.9 KB\u001b[0m \u001b[31m1.0 MB/s\u001b[0m eta \u001b[36m0:00:00\u001b[0m\r\n",
      "\u001b[?25hCollecting protobuf==3.20.0\r\n",
      "  Downloading protobuf-3.20.0-cp37-cp37m-manylinux_2_5_x86_64.manylinux1_x86_64.whl (1.0 MB)\r\n",
      "\u001b[2K     \u001b[90m━━━━━━━━━━━━━━━━━━━━━━━━━━━━━━━━━━━━━━━━\u001b[0m \u001b[32m1.0/1.0 MB\u001b[0m \u001b[31m1.8 MB/s\u001b[0m eta \u001b[36m0:00:00\u001b[0m\r\n",
      "\u001b[?25hRequirement already satisfied: tensorflow<3,>=2.1.0 in /opt/conda/lib/python3.7/site-packages (from tensorflowjs) (2.6.3)\r\n",
      "Requirement already satisfied: pyparsing>=2.0.2 in /opt/conda/lib/python3.7/site-packages (from packaging~=20.9->tensorflowjs) (3.0.7)\r\n",
      "Requirement already satisfied: flatbuffers~=1.12.0 in /opt/conda/lib/python3.7/site-packages (from tensorflow<3,>=2.1.0->tensorflowjs) (1.12)\r\n",
      "Requirement already satisfied: keras<2.7,>=2.6.0 in /opt/conda/lib/python3.7/site-packages (from tensorflow<3,>=2.1.0->tensorflowjs) (2.6.0)\r\n",
      "Requirement already satisfied: wheel~=0.35 in /opt/conda/lib/python3.7/site-packages (from tensorflow<3,>=2.1.0->tensorflowjs) (0.37.1)\r\n",
      "Requirement already satisfied: clang~=5.0 in /opt/conda/lib/python3.7/site-packages (from tensorflow<3,>=2.1.0->tensorflowjs) (5.0)\r\n",
      "Collecting typing-extensions<3.11,>=3.7\r\n",
      "  Downloading typing_extensions-3.10.0.2-py3-none-any.whl (26 kB)\r\n",
      "Requirement already satisfied: tensorboard<2.7,>=2.6.0 in /opt/conda/lib/python3.7/site-packages (from tensorflow<3,>=2.1.0->tensorflowjs) (2.6.0)\r\n",
      "Collecting wrapt~=1.12.1\r\n",
      "  Downloading wrapt-1.12.1.tar.gz (27 kB)\r\n",
      "  Preparing metadata (setup.py) ... \u001b[?25l-\b \bdone\r\n",
      "\u001b[?25hCollecting numpy~=1.19.2\r\n",
      "  Downloading numpy-1.19.5-cp37-cp37m-manylinux2010_x86_64.whl (14.8 MB)\r\n",
      "\u001b[2K     \u001b[90m━━━━━━━━━━━━━━━━━━━━━━━━━━━━━━━━━━━━━━━━\u001b[0m \u001b[32m14.8/14.8 MB\u001b[0m \u001b[31m15.7 MB/s\u001b[0m eta \u001b[36m0:00:00\u001b[0m\r\n",
      "\u001b[?25hRequirement already satisfied: keras-preprocessing~=1.1.2 in /opt/conda/lib/python3.7/site-packages (from tensorflow<3,>=2.1.0->tensorflowjs) (1.1.2)\r\n",
      "Requirement already satisfied: opt-einsum~=3.3.0 in /opt/conda/lib/python3.7/site-packages (from tensorflow<3,>=2.1.0->tensorflowjs) (3.3.0)\r\n",
      "Collecting six<2,>=1.12.0\r\n",
      "  Downloading six-1.15.0-py2.py3-none-any.whl (10 kB)\r\n",
      "Requirement already satisfied: gast==0.4.0 in /opt/conda/lib/python3.7/site-packages (from tensorflow<3,>=2.1.0->tensorflowjs) (0.4.0)\r\n",
      "Requirement already satisfied: tensorflow-estimator<2.7,>=2.6.0 in /opt/conda/lib/python3.7/site-packages (from tensorflow<3,>=2.1.0->tensorflowjs) (2.6.0)\r\n",
      "Collecting absl-py~=0.10\r\n",
      "  Downloading absl_py-0.15.0-py3-none-any.whl (132 kB)\r\n",
      "\u001b[2K     \u001b[90m━━━━━━━━━━━━━━━━━━━━━━━━━━━━━━━━━━━━━━\u001b[0m \u001b[32m132.0/132.0 KB\u001b[0m \u001b[31m10.8 MB/s\u001b[0m eta \u001b[36m0:00:00\u001b[0m\r\n",
      "\u001b[?25hRequirement already satisfied: termcolor~=1.1.0 in /opt/conda/lib/python3.7/site-packages (from tensorflow<3,>=2.1.0->tensorflowjs) (1.1.0)\r\n",
      "Requirement already satisfied: astunparse~=1.6.3 in /opt/conda/lib/python3.7/site-packages (from tensorflow<3,>=2.1.0->tensorflowjs) (1.6.3)\r\n",
      "Requirement already satisfied: google-pasta~=0.2 in /opt/conda/lib/python3.7/site-packages (from tensorflow<3,>=2.1.0->tensorflowjs) (0.2.0)\r\n",
      "Requirement already satisfied: h5py~=3.1.0 in /opt/conda/lib/python3.7/site-packages (from tensorflow<3,>=2.1.0->tensorflowjs) (3.1.0)\r\n",
      "Requirement already satisfied: grpcio<2.0,>=1.37.0 in /opt/conda/lib/python3.7/site-packages (from tensorflow<3,>=2.1.0->tensorflowjs) (1.43.0)\r\n",
      "Requirement already satisfied: cached-property in /opt/conda/lib/python3.7/site-packages (from h5py~=3.1.0->tensorflow<3,>=2.1.0->tensorflowjs) (1.5.2)\r\n",
      "Requirement already satisfied: tensorboard-plugin-wit>=1.6.0 in /opt/conda/lib/python3.7/site-packages (from tensorboard<2.7,>=2.6.0->tensorflow<3,>=2.1.0->tensorflowjs) (1.8.1)\r\n",
      "Requirement already satisfied: google-auth<2,>=1.6.3 in /opt/conda/lib/python3.7/site-packages (from tensorboard<2.7,>=2.6.0->tensorflow<3,>=2.1.0->tensorflowjs) (1.35.0)\r\n",
      "Requirement already satisfied: markdown>=2.6.8 in /opt/conda/lib/python3.7/site-packages (from tensorboard<2.7,>=2.6.0->tensorflow<3,>=2.1.0->tensorflowjs) (3.3.6)\r\n",
      "Requirement already satisfied: tensorboard-data-server<0.7.0,>=0.6.0 in /opt/conda/lib/python3.7/site-packages (from tensorboard<2.7,>=2.6.0->tensorflow<3,>=2.1.0->tensorflowjs) (0.6.1)\r\n",
      "Requirement already satisfied: requests<3,>=2.21.0 in /opt/conda/lib/python3.7/site-packages (from tensorboard<2.7,>=2.6.0->tensorflow<3,>=2.1.0->tensorflowjs) (2.27.1)\r\n",
      "Requirement already satisfied: setuptools>=41.0.0 in /opt/conda/lib/python3.7/site-packages (from tensorboard<2.7,>=2.6.0->tensorflow<3,>=2.1.0->tensorflowjs) (59.8.0)\r\n",
      "Requirement already satisfied: werkzeug>=0.11.15 in /opt/conda/lib/python3.7/site-packages (from tensorboard<2.7,>=2.6.0->tensorflow<3,>=2.1.0->tensorflowjs) (2.0.3)\r\n",
      "Requirement already satisfied: google-auth-oauthlib<0.5,>=0.4.1 in /opt/conda/lib/python3.7/site-packages (from tensorboard<2.7,>=2.6.0->tensorflow<3,>=2.1.0->tensorflowjs) (0.4.6)\r\n",
      "Requirement already satisfied: cachetools<5.0,>=2.0.0 in /opt/conda/lib/python3.7/site-packages (from google-auth<2,>=1.6.3->tensorboard<2.7,>=2.6.0->tensorflow<3,>=2.1.0->tensorflowjs) (4.2.4)\r\n",
      "Requirement already satisfied: pyasn1-modules>=0.2.1 in /opt/conda/lib/python3.7/site-packages (from google-auth<2,>=1.6.3->tensorboard<2.7,>=2.6.0->tensorflow<3,>=2.1.0->tensorflowjs) (0.2.7)\r\n",
      "Requirement already satisfied: rsa<5,>=3.1.4 in /opt/conda/lib/python3.7/site-packages (from google-auth<2,>=1.6.3->tensorboard<2.7,>=2.6.0->tensorflow<3,>=2.1.0->tensorflowjs) (4.8)\r\n",
      "Requirement already satisfied: requests-oauthlib>=0.7.0 in /opt/conda/lib/python3.7/site-packages (from google-auth-oauthlib<0.5,>=0.4.1->tensorboard<2.7,>=2.6.0->tensorflow<3,>=2.1.0->tensorflowjs) (1.3.1)\r\n",
      "Requirement already satisfied: importlib-metadata>=4.4 in /opt/conda/lib/python3.7/site-packages (from markdown>=2.6.8->tensorboard<2.7,>=2.6.0->tensorflow<3,>=2.1.0->tensorflowjs) (4.11.3)\r\n",
      "Requirement already satisfied: urllib3<1.27,>=1.21.1 in /opt/conda/lib/python3.7/site-packages (from requests<3,>=2.21.0->tensorboard<2.7,>=2.6.0->tensorflow<3,>=2.1.0->tensorflowjs) (1.26.8)\r\n",
      "Requirement already satisfied: idna<4,>=2.5 in /opt/conda/lib/python3.7/site-packages (from requests<3,>=2.21.0->tensorboard<2.7,>=2.6.0->tensorflow<3,>=2.1.0->tensorflowjs) (3.3)\r\n",
      "Requirement already satisfied: certifi>=2017.4.17 in /opt/conda/lib/python3.7/site-packages (from requests<3,>=2.21.0->tensorboard<2.7,>=2.6.0->tensorflow<3,>=2.1.0->tensorflowjs) (2021.10.8)\r\n",
      "Requirement already satisfied: charset-normalizer~=2.0.0 in /opt/conda/lib/python3.7/site-packages (from requests<3,>=2.21.0->tensorboard<2.7,>=2.6.0->tensorflow<3,>=2.1.0->tensorflowjs) (2.0.12)\r\n",
      "Requirement already satisfied: zipp>=0.5 in /opt/conda/lib/python3.7/site-packages (from importlib-metadata>=4.4->markdown>=2.6.8->tensorboard<2.7,>=2.6.0->tensorflow<3,>=2.1.0->tensorflowjs) (3.7.0)\r\n",
      "Requirement already satisfied: pyasn1<0.5.0,>=0.4.6 in /opt/conda/lib/python3.7/site-packages (from pyasn1-modules>=0.2.1->google-auth<2,>=1.6.3->tensorboard<2.7,>=2.6.0->tensorflow<3,>=2.1.0->tensorflowjs) (0.4.8)\r\n",
      "Requirement already satisfied: oauthlib>=3.0.0 in /opt/conda/lib/python3.7/site-packages (from requests-oauthlib>=0.7.0->google-auth-oauthlib<0.5,>=0.4.1->tensorboard<2.7,>=2.6.0->tensorflow<3,>=2.1.0->tensorflowjs) (3.2.0)\r\n",
      "Building wheels for collected packages: wrapt\r\n",
      "  Building wheel for wrapt (setup.py) ... \u001b[?25l-\b \b\\\b \b|\b \bdone\r\n",
      "\u001b[?25h  Created wheel for wrapt: filename=wrapt-1.12.1-cp37-cp37m-linux_x86_64.whl size=77057 sha256=4e40b20db0ee2aef4aceab032891f39377416da3abbb859c81d4d27ebb8e267e\r\n",
      "  Stored in directory: /root/.cache/pip/wheels/62/76/4c/aa25851149f3f6d9785f6c869387ad82b3fd37582fa8147ac6\r\n",
      "Successfully built wrapt\r\n",
      "Installing collected packages: wrapt, typing-extensions, six, protobuf, packaging, numpy, absl-py, tensorflowjs\r\n",
      "  Attempting uninstall: wrapt\r\n",
      "    Found existing installation: wrapt 1.14.0\r\n",
      "    Uninstalling wrapt-1.14.0:\r\n",
      "      Successfully uninstalled wrapt-1.14.0\r\n",
      "  Attempting uninstall: typing-extensions\r\n",
      "    Found existing installation: typing_extensions 4.2.0\r\n",
      "    Uninstalling typing_extensions-4.2.0:\r\n",
      "      Successfully uninstalled typing_extensions-4.2.0\r\n",
      "  Attempting uninstall: six\r\n",
      "    Found existing installation: six 1.16.0\r\n",
      "    Uninstalling six-1.16.0:\r\n",
      "      Successfully uninstalled six-1.16.0\r\n",
      "  Attempting uninstall: protobuf\r\n",
      "    Found existing installation: protobuf 3.19.4\r\n",
      "    Uninstalling protobuf-3.19.4:\r\n",
      "      Successfully uninstalled protobuf-3.19.4\r\n",
      "  Attempting uninstall: packaging\r\n",
      "    Found existing installation: packaging 21.3\r\n",
      "    Uninstalling packaging-21.3:\r\n",
      "      Successfully uninstalled packaging-21.3\r\n",
      "  Attempting uninstall: numpy\r\n",
      "    Found existing installation: numpy 1.21.6\r\n",
      "    Uninstalling numpy-1.21.6:\r\n",
      "      Successfully uninstalled numpy-1.21.6\r\n",
      "  Attempting uninstall: absl-py\r\n",
      "    Found existing installation: absl-py 1.0.0\r\n",
      "    Uninstalling absl-py-1.0.0:\r\n",
      "      Successfully uninstalled absl-py-1.0.0\r\n",
      "\u001b[31mERROR: pip's dependency resolver does not currently take into account all the packages that are installed. This behaviour is the source of the following dependency conflicts.\r\n",
      "tensorflow-io 0.21.0 requires tensorflow-io-gcs-filesystem==0.21.0, which is not installed.\r\n",
      "dask-cudf 21.10.1 requires cupy-cuda114, which is not installed.\r\n",
      "beatrix-jupyterlab 3.1.7 requires google-cloud-bigquery-storage, which is not installed.\r\n",
      "tfx-bsl 1.7.0 requires pyarrow<6,>=1, but you have pyarrow 7.0.0 which is incompatible.\r\n",
      "tfx-bsl 1.7.0 requires tensorflow!=2.0.*,!=2.1.*,!=2.2.*,!=2.3.*,!=2.4.*,!=2.5.*,!=2.6.*,!=2.7.*,<3,>=1.15.5, but you have tensorflow 2.6.3 which is incompatible.\r\n",
      "tensorflow-transform 1.7.0 requires pyarrow<6,>=1, but you have pyarrow 7.0.0 which is incompatible.\r\n",
      "tensorflow-transform 1.7.0 requires tensorflow!=2.0.*,!=2.1.*,!=2.2.*,!=2.3.*,!=2.4.*,!=2.5.*,!=2.6.*,!=2.7.*,<2.9,>=1.15.5, but you have tensorflow 2.6.3 which is incompatible.\r\n",
      "tensorflow-serving-api 2.8.0 requires tensorflow<3,>=2.8.0, but you have tensorflow 2.6.3 which is incompatible.\r\n",
      "statsmodels 0.13.2 requires packaging>=21.3, but you have packaging 20.9 which is incompatible.\r\n",
      "shap 0.40.0 requires packaging>20.9, but you have packaging 20.9 which is incompatible.\r\n",
      "rich 12.2.0 requires typing-extensions<5.0,>=4.0.0; python_version < \"3.9\", but you have typing-extensions 3.10.0.2 which is incompatible.\r\n",
      "pytorch-lightning 1.6.1 requires typing-extensions>=4.0.0, but you have typing-extensions 3.10.0.2 which is incompatible.\r\n",
      "pytools 2022.1.5 requires typing-extensions>=4.0; python_version < \"3.11\", but you have typing-extensions 3.10.0.2 which is incompatible.\r\n",
      "pytesseract 0.3.9 requires packaging>=21.3, but you have packaging 20.9 which is incompatible.\r\n",
      "pdpbox 0.2.1 requires matplotlib==3.1.1, but you have matplotlib 3.5.1 which is incompatible.\r\n",
      "imageio 2.16.1 requires numpy>=1.20.0, but you have numpy 1.19.5 which is incompatible.\r\n",
      "grpcio-status 1.44.0 requires grpcio>=1.44.0, but you have grpcio 1.43.0 which is incompatible.\r\n",
      "google-cloud-aiplatform 0.6.0a1 requires google-cloud-storage<2.0.0dev,>=1.26.0, but you have google-cloud-storage 2.1.0 which is incompatible.\r\n",
      "gcsfs 2022.2.0 requires fsspec==2022.02.0, but you have fsspec 2022.3.0 which is incompatible.\r\n",
      "flake8 4.0.1 requires importlib-metadata<4.3; python_version < \"3.8\", but you have importlib-metadata 4.11.3 which is incompatible.\r\n",
      "featuretools 1.8.0 requires numpy>=1.21.0, but you have numpy 1.19.5 which is incompatible.\r\n",
      "dask-cudf 21.10.1 requires dask==2021.09.1, but you have dask 2022.2.0 which is incompatible.\r\n",
      "dask-cudf 21.10.1 requires distributed==2021.09.1, but you have distributed 2022.2.0 which is incompatible.\r\n",
      "apache-beam 2.37.0 requires dill<0.3.2,>=0.3.1.1, but you have dill 0.3.4 which is incompatible.\r\n",
      "apache-beam 2.37.0 requires httplib2<0.20.0,>=0.8, but you have httplib2 0.20.4 which is incompatible.\r\n",
      "apache-beam 2.37.0 requires pyarrow<7.0.0,>=0.15.1, but you have pyarrow 7.0.0 which is incompatible.\r\n",
      "aioitertools 0.10.0 requires typing_extensions>=4.0; python_version < \"3.10\", but you have typing-extensions 3.10.0.2 which is incompatible.\r\n",
      "aiobotocore 2.2.0 requires botocore<1.24.22,>=1.24.21, but you have botocore 1.25.0 which is incompatible.\u001b[0m\u001b[31m\r\n",
      "\u001b[0mSuccessfully installed absl-py-0.15.0 numpy-1.19.5 packaging-20.9 protobuf-3.20.0 six-1.15.0 tensorflowjs-3.19.0 typing-extensions-3.10.0.2 wrapt-1.12.1\r\n",
      "\u001b[33mWARNING: Running pip as the 'root' user can result in broken permissions and conflicting behaviour with the system package manager. It is recommended to use a virtual environment instead: https://pip.pypa.io/warnings/venv\u001b[0m\u001b[33m\r\n",
      "\u001b[0mNote: you may need to restart the kernel to use updated packages.\n"
     ]
    }
   ],
   "source": [
    "pip install tensorflowjs"
   ]
  },
  {
   "cell_type": "code",
   "execution_count": 14,
   "id": "a0e6547e",
   "metadata": {
    "execution": {
     "iopub.execute_input": "2022-07-25T13:18:10.533628Z",
     "iopub.status.busy": "2022-07-25T13:18:10.533227Z",
     "iopub.status.idle": "2022-07-25T13:18:13.159807Z",
     "shell.execute_reply": "2022-07-25T13:18:13.158811Z"
    },
    "papermill": {
     "duration": 9.208822,
     "end_time": "2022-07-25T13:18:13.161867",
     "exception": false,
     "start_time": "2022-07-25T13:18:03.953045",
     "status": "completed"
    },
    "tags": []
   },
   "outputs": [],
   "source": [
    "import tensorflowjs as tfjs\n",
    "tfjs_target_dir = './'\n",
    "tfjs.converters.save_keras_model(model, tfjs_target_dir)"
   ]
  },
  {
   "cell_type": "code",
   "execution_count": null,
   "id": "50107687",
   "metadata": {
    "papermill": {
     "duration": 6.526612,
     "end_time": "2022-07-25T13:18:26.244633",
     "exception": false,
     "start_time": "2022-07-25T13:18:19.718021",
     "status": "completed"
    },
    "tags": []
   },
   "outputs": [],
   "source": []
  }
 ],
 "metadata": {
  "kernelspec": {
   "display_name": "Python 3",
   "language": "python",
   "name": "python3"
  },
  "language_info": {
   "codemirror_mode": {
    "name": "ipython",
    "version": 3
   },
   "file_extension": ".py",
   "mimetype": "text/x-python",
   "name": "python",
   "nbconvert_exporter": "python",
   "pygments_lexer": "ipython3",
   "version": "3.7.12"
  },
  "papermill": {
   "default_parameters": {},
   "duration": 8810.180259,
   "end_time": "2022-07-25T13:18:35.927080",
   "environment_variables": {},
   "exception": null,
   "input_path": "__notebook__.ipynb",
   "output_path": "__notebook__.ipynb",
   "parameters": {},
   "start_time": "2022-07-25T10:51:45.746821",
   "version": "2.3.4"
  }
 },
 "nbformat": 4,
 "nbformat_minor": 5
}
